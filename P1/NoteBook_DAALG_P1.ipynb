{
 "cells": [
  {
   "cell_type": "code",
   "execution_count": 1,
   "metadata": {
    "scrolled": true
   },
   "outputs": [],
   "source": [
    "# -*- coding: utf-8 -*-\n",
    "import time\n",
    "import random\n",
    "import pickle\n",
    "import queue\n",
    "import numpy as np"
   ]
  },
  {
   "cell_type": "code",
   "execution_count": 2,
   "metadata": {},
   "outputs": [],
   "source": [
    "#   Función que devuelve una matriz de adyacencia de un grafo ponderado (con pesos)\n",
    "#   con n_nodes, una proporción sparse_factor de ramas (?¿) y max_weight como peso máximo\n",
    "def rand_matr_pos_graph(n_nodes, sparse_factor, max_weight=50., decimals=0):    ## TODO: Usar el decimals\n",
    "\n",
    "    matBinaria = np.random.binomial(1, sparse_factor, (n_nodes, n_nodes))           # Creamos la matriz que contiene las conexiones\n",
    "    matPesos = np.random.binomial(max_weight, sparse_factor, (n_nodes, n_nodes))    # Creamos la matriz que contiene los pesos\n",
    "    matAdyacencia = np.empty((n_nodes, n_nodes))                                    # Creamos la matriz de adyacencia\n",
    "    matAdyacencia.fill(np.inf)                                                      # La rellenamos de infinito\n",
    "\n",
    "    matFinal = matBinaria * matPesos            # Multiplicamos la primera matriz por la segunda para tener los pesos SOLO en las conexiones generadas\n",
    "\n",
    "    for i in range(matAdyacencia.shape[0]):     # Recorremos la matriz de adyacencia\n",
    "        for j in range(matAdyacencia.shape[1]):\n",
    "            if i == j:                                  # Para poner a 0 la diagonal\n",
    "                matAdyacencia[i][j] = 0\n",
    "            elif matFinal[i][j] != 0:                   # Y para rellenar las conexiones\n",
    "                matAdyacencia[i][j] = matFinal[i][j]\n",
    "\n",
    "    return matAdyacencia"
   ]
  },
  {
   "cell_type": "code",
   "execution_count": 3,
   "metadata": {},
   "outputs": [],
   "source": [
    "#   Funcion que devuelve el numero de ramas en el grafo dada una matriz de adyacencia\n",
    "def cuenta_ramas(m_g):\n",
    "\n",
    "    num_ramas = 0\n",
    "\n",
    "    for filas in m_g:                           # Bucle que recorre la matriz de adyacencia\n",
    "        for peso in filas:\n",
    "            if peso != 0 and peso != np.inf:            # Sumando 1 cuando encuentra una conexión\n",
    "                num_ramas += 1\n",
    "\n",
    "    return num_ramas"
   ]
  },
  {
   "cell_type": "code",
   "execution_count": 4,
   "metadata": {},
   "outputs": [],
   "source": [
    "#   Función que genera las matrices de n_grafos aleatorios con n_nodes y un cierto\n",
    "#   sparse_factor, devolviendo la media de sparse_factor reales de las matrices generadas\n",
    "def check_sparse_factor(n_grafos, n_nodes, sparse_factor):\n",
    "\n",
    "    sp_aux = 0          # Inicializamos a 0 esta variable auxiliar\n",
    "\n",
    "    for i in range(n_grafos):       # Hacemos un bucle tantas veces como grafos tengamos que generar\n",
    "        mat = rand_matr_pos_graph(n_nodes, sparse_factor)   # Generamos la matriz de adyacencia\n",
    "        sp = cuenta_ramas(mat)                              # Contamos las ramas de la matriz generada\n",
    "        sp_aux += sp                                        # Sumamos las ramas al contador\n",
    "\n",
    "    avg_sparse_factor = sp_aux/n_grafos     # Por ultimo, calculamos el factor de dispersion medio\n",
    "\n",
    "    return avg_sparse_factor"
   ]
  },
  {
   "cell_type": "code",
   "execution_count": 5,
   "metadata": {},
   "outputs": [],
   "source": [
    "#   Función que devuelve el diccionario de listas de adyacencia\n",
    "#   del grafo decinido por la matriz de adyacencia m_g\n",
    "#   SE SUPONE QUE TIENE QUE GENERAR UN DICCIONARIO DE UNA MATRIZ (?¿)\n",
    "def m_g_2_d_g(m_g):\n",
    "\n",
    "    d_g = {}    # Diccionario a devolver\n",
    "    index = 0   # Indice para el diccionario G (indice de nodo)\n",
    "\n",
    "    for nodo in m_g:        # Bucle que recorre la matriz\n",
    "\n",
    "        d_g[index] = {}     # Diccionario G[i]\n",
    "        j = 0       # Indice para el diccionario G[i] (no. de nodo)\n",
    "\n",
    "        for peso in nodo:                       # Recorremos los valores de cada fila (nodo)\n",
    "            if peso != 0 and peso != np.inf:        # Si tiene peso, lo añadimos al diccionario\n",
    "                d_g[index][j] = peso                    # j porque pienso que los nodos van de 0-inf, no de 1-inf\n",
    "            j+=1\n",
    "\n",
    "        index += 1          # Añadimos 1 al indice del diccionario G\n",
    "\n",
    "    return d_g"
   ]
  },
  {
   "cell_type": "code",
   "execution_count": 6,
   "metadata": {},
   "outputs": [],
   "source": [
    "#   Función que devuelve una matriz de adyacencia\n",
    "#   dado un diccionario de listas de adyacencia d_g\n",
    "def d_g_2_m_g(d_g):\n",
    "\n",
    "    m_g = np.empty((len(d_g), len(d_g)))    # Como son matrices cuadradas, la longitud del diccionario nos da la cantidad de nodos\n",
    "    m_g.fill(np.inf)                        # La rellenamos de np.inf\n",
    "\n",
    "    for i in range(len(d_g)):               # Bucle para inicializar la diagonal a 0\n",
    "        m_g[i][i] = 0\n",
    "\n",
    "    for k1, v1 in d_g.items():              # Recorremos el diccionario. k1 = indice ; v1 = dic. de ese nodo\n",
    "        for k2, v2 in v1.items():               # Recorremos el diccionario del nodo\n",
    "            m_g[k1][k2] = v2                        # Colocamos el peso en la posición que le corresponde\n",
    "\n",
    "    return m_g"
   ]
  },
  {
   "cell_type": "code",
   "execution_count": 7,
   "metadata": {},
   "outputs": [
    {
     "name": "stdout",
     "output_type": "stream",
     "text": [
      "[[ 0. inf inf inf inf]\n",
      " [inf  0. 28. 23. inf]\n",
      " [27. 29.  0. inf inf]\n",
      " [25. inf inf  0. 25.]\n",
      " [inf inf 27. inf  0.]]\n",
      "7\n",
      "9.2\n",
      "{0: {}, 1: {2: 28.0, 3: 23.0}, 2: {0: 27.0, 1: 29.0}, 3: {0: 25.0, 4: 25.0}, 4: {2: 27.0}}\n",
      "[[ 0. inf inf inf inf]\n",
      " [inf  0. 28. 23. inf]\n",
      " [27. 29.  0. inf inf]\n",
      " [25. inf inf  0. 25.]\n",
      " [inf inf 27. inf  0.]]\n"
     ]
    }
   ],
   "source": [
    "m=rand_matr_pos_graph(5,0.5)\n",
    "print(m)\n",
    "n=cuenta_ramas(m)\n",
    "print(n)\n",
    "s=check_sparse_factor(10,5,0.5)\n",
    "print(s)\n",
    "d=m_g_2_d_g(m)\n",
    "print(d)\n",
    "mm=d_g_2_m_g(d)\n",
    "print(mm)"
   ]
  },
  {
   "cell_type": "code",
   "execution_count": 8,
   "metadata": {},
   "outputs": [],
   "source": [
    "#   Función que guarda un objeto Python obj de manera comprimida en un fichero de nombre f_name\n",
    "def save_object(obj, f_name='obj.pklz', save_path='.'):\n",
    "\n",
    "    objFile = open(save_path + f_name, 'wb')    # Abrimos el fichero en modo de escritura binaria para que funcione pickle\n",
    "    pickle.dump(obj, objFile)                   # Guardamos el objeto ¿ya serializado? en el fichero\n",
    "    objFile.close()"
   ]
  },
  {
   "cell_type": "code",
   "execution_count": 9,
   "metadata": {},
   "outputs": [],
   "source": [
    "#   Función que devuelve un objeto Python guardado en un fichero de nombre f_name\n",
    "def read_object(f_name, save_path='.'):\n",
    "\n",
    "    objFile = open(save_path + f_name, 'rb')    # Abrimos el fichero en modo de lectura binaria para que funcione pickle\n",
    "    object = pickle.load(fp)                    # Cargamos el objeto ¿serializado? guardado en el fichero\n",
    "    objFile.close()                             # Cerramos el fichero\n",
    "\n",
    "    return object"
   ]
  },
  {
   "cell_type": "code",
   "execution_count": 10,
   "metadata": {},
   "outputs": [],
   "source": [
    "#   Función que escribe en un fichero de nombre f_name un grafo ponderado en formato\n",
    "#   TGF a partir de un diccionario de listas de adyacencia\n",
    "def d_g_2_TGF(d_g, f_name):\n",
    "\n",
    "    TGFFile = open(f_name, 'w')                 # Abrimos el fichero en modo escritura\n",
    "\n",
    "    for indice in d_g:                          # Escribimos primero los indices en el fichero\n",
    "        TGFFile.write(indice + '\\n')\n",
    "\n",
    "    TGFFile.write('#\\n')                        # Escribimos el separador\n",
    "\n",
    "    for nodoOrg, DiccDestinos in d_g:           # Recorremos de nuevo el diccionario para escribir\n",
    "        for nodoDst, pesoRec in DiccDestinos:       # el resto del fichero\n",
    "            TGFFile.write(nodoOrg + ' ' + nodoDst + ' ' + pesoRec + '\\n')   # Escribimos los diferentes datos\n",
    "\n",
    "    TGFFile.close() "
   ]
  },
  {
   "cell_type": "code",
   "execution_count": 11,
   "metadata": {},
   "outputs": [],
   "source": [
    "#   Función que devuelve un diccionario de listas de adyacencia a partir de un\n",
    "#   grafo ponderado TGF guardado en el archivo f_name   ## TODO: Se guarda como str en el dicc\n",
    "def TGF_2_d_g(f_name):\n",
    "\n",
    "    d_g = {}                                    # Inicializamos el diccionario de listas de adyacencia\n",
    "\n",
    "    TGFFile = open(f_name, 'r')                 # Abrimos nuestro fichero donde tenemos el grafo en TGF\n",
    "\n",
    "    for linea in TGFFile:                       # Leemos cada linea del fichero para obtener los indices de los diferentes nodos\n",
    "        indice = linea.split('\\n')[0]               # Dividimos la linea y cogemos el indice del nodo\n",
    "        if indice == '#':                           # Cuando leemos el '#' salimos del bucle ya que hemos leido todos los indices\n",
    "            break\n",
    "        else:                                       # Si no leemos '#', guardamos el indice y creamos un diccionario para el mismo\n",
    "            d_g[indice] = {}\n",
    "\n",
    "    for linea in TGFFile:                       # Ahora guardamos en los distintos diccionarios los nodos destino y los costes hacia ellos\n",
    "        nodoOrg, nodoDst, pesoRec = linea.split('\\n')[0].split(' ')    # Fragmentamos la linea leida en los diferentes datos\n",
    "        d_g[nodoOrg][nodoDst] = pesoRec                                # Creamos una clave y valor nuevos para el diccionario de nodoOrg\n",
    "\n",
    "    TGFFile.close()                             # Cerramos el fichero\n",
    "\n",
    "    return d_g"
   ]
  },
  {
   "cell_type": "code",
   "execution_count": 12,
   "metadata": {},
   "outputs": [
    {
     "name": "stdout",
     "output_type": "stream",
     "text": [
      "[[ 0. inf inf 13. inf]\n",
      " [inf  0. inf inf 18.]\n",
      " [12. inf  0. inf  7.]\n",
      " [inf  8. 17.  0.  8.]\n",
      " [13. inf inf  9.  0.]]\n",
      "{0: {3: 13.0}, 1: {4: 18.0}, 2: {0: 12.0, 4: 7.0}, 3: {1: 8.0, 2: 17.0, 4: 8.0}, 4: {0: 13.0, 3: 9.0}}\n"
     ]
    }
   ],
   "source": [
    "m_g = rand_matr_pos_graph(5,0.25)\n",
    "print(m_g)\n",
    "d_g = m_g_2_d_g(m_g)\n",
    "print(d_g)"
   ]
  },
  {
   "cell_type": "code",
   "execution_count": 13,
   "metadata": {},
   "outputs": [],
   "source": [
    "#   Función que aplica Dijkstra a un nodo u dentro de un grafo d_g en formato de\n",
    "#   diccionario. La funcion devuelve dos diciconarios, d_prev donde las claves\n",
    "#   son los nodos previos a las valores, y d_dist, tiene como clave un nodo\n",
    "#   accesible partiendo desde u y como valores el coste minimo total hasta ese nodo\n",
    "def dijkstra_d(d_g, u):\n",
    "\n",
    "    lstOpenNodes = [] #s    # Lista de nodos abiertos\n",
    "    d_dist = {} #d          # Diccionario de costes minimos\n",
    "    d_prev = {} #p          # Diccionario de nodos previos\n",
    "\n",
    "    for i in range(len(d_g)):       # Inicializamos la lista entera a False\n",
    "        lstOpenNodes.append(False)  ## TODO: ¿Se puede hacer mejor?\n",
    "\n",
    "    Q = queue.PriorityQueue()       # Inicializamos la cola de prioridad\n",
    "\n",
    "    d_dist[u] = 0           # K : nodoDst ; V : peso\n",
    "    Q.put((d_dist[u],u))    # [0]: Peso; [1]: NodoDst   # Debe ser asi para que funcione la prioridad\n",
    "\n",
    "    # Mientras la cola de prioridad no este vacia\n",
    "    while not Q.empty():\n",
    "\n",
    "        dist_tuple = Q.get()        # Cogemos la tupla (peso, distancia)\n",
    "        dist = dist_tuple[0]\n",
    "        nodoActual = dist_tuple[1]\n",
    "\n",
    "        #   Si el nodo no esta cerrado\n",
    "        if not lstOpenNodes[nodoActual]:\n",
    "\n",
    "            lstOpenNodes[nodoActual] = True             # Cerramos el nodo\n",
    "            diccionario_adyacencias = d_g[nodoActual]   # Sacamos las adyacencias del nodo a analizar\n",
    "\n",
    "            # Sacamos las conexiones\n",
    "            for dicc_NodeDst, dicc_Dist in diccionario_adyacencias.items():\n",
    "\n",
    "                #   Si no existe, lo creamos\n",
    "                if not dicc_NodeDst in d_dist:\n",
    "                    d_dist[dicc_NodeDst] = dicc_Dist + dist     # Nueva Entrada. {v : (dist(prev(v),v) + Dst_Acumulada)}\n",
    "                    d_prev[dicc_NodeDst] = nodoActual           # Nueva Entrada. {v : prev(v)}\n",
    "                    Q.put((d_dist[dicc_NodeDst],dicc_NodeDst))  # Metemos elemento en Q. (dist(u,v), v)\n",
    "\n",
    "                #   Si existe, comprobamos si tiene menor peso que el anterior guardado\n",
    "                elif d_dist[dicc_NodeDst] > (d_dist[nodoActual] + d_g[nodoActual][dicc_NodeDst]):\n",
    "                    d_dist[dicc_NodeDst] = d_dist[nodoActual] + d_g[nodoActual][dicc_NodeDst]   # Nueva Entrada. {v : (dist(prev(v),v) + Dst_Acumulada)}\n",
    "                    d_prev[dicc_NodeDst] = nodoActual           # Nueva Entrada. {v : prev(v)}\n",
    "                    Q.put((d_dist[dicc_NodeDst],dicc_NodeDst))  # Metemos elemento en Q. (dist(u,v), v)\n",
    "\n",
    "    return d_dist, d_prev"
   ]
  },
  {
   "cell_type": "code",
   "execution_count": 14,
   "metadata": {},
   "outputs": [],
   "source": [
    "def dijkstra_m(m_g, u):\n",
    "    pass"
   ]
  },
  {
   "cell_type": "code",
   "execution_count": 15,
   "metadata": {},
   "outputs": [],
   "source": [
    "def min_paths(d_prev):\n",
    "    pass"
   ]
  },
  {
   "cell_type": "code",
   "execution_count": 16,
   "metadata": {},
   "outputs": [],
   "source": [
    "#   Función que genera n_graphs número de grafos con un numero de nodos entre n_nodes_ini\n",
    "#   y n_nodes_fin con pasos de step nodos. Despues, para cada grafo generado, aplicamos\n",
    "#   el algoritmo de Dijkstra para cada nodo de cada grafo, midiendo el tiempo en el\n",
    "#   se resuelve el mismo. Los grafos están en modo Matriz Numpy\n",
    "def time_dijkstra_m(n_graphs, n_nodes_ini, n_nodes_fin, step, sparse_factor=.25):\n",
    "    pass"
   ]
  },
  {
   "cell_type": "code",
   "execution_count": 17,
   "metadata": {},
   "outputs": [],
   "source": [
    "#   Función que genera n_graphs número de grafos con un numero de nodos entre n_nodes_ini\n",
    "#   y n_nodes_fin con pasos de step nodos. Despues, para cada grafo generado, aplicamos\n",
    "#   el algoritmo de Dijkstra para cada nodo de cada grafo, midiendo el tiempo en el\n",
    "#   se resuelve el mismo. Los grafos están en modo Diccionario\n",
    "def time_dijkstra_d(n_graphs, n_nodes_ini, n_nodes_fin, step, sparse_factor=.25):\n",
    "\n",
    "    lista_diccGrafos = []   # Creamos una lista vacia para los grafos en formato diccionario\n",
    "\n",
    "    # Creamos n_graphs grafos con los distintos valores entre n_nodes_ini y n_nodes_fin\n",
    "    # menores estrictamente que n_nodes_fin debido a como funciona range()\n",
    "    for n_nodes in range(n_nodes_ini, n_nodes_fin, step):\n",
    "        for j in range(n_graphs):\n",
    "            newMatrixGraph = rand_matr_pos_graph(n_nodes, sparse_factor)\n",
    "            newDiccGraph = m_g_2_d_g(newMatrixGraph)\n",
    "            lista_diccGrafos.append(newDiccGraph)\n",
    "    # Creamos los grafos con n_nodes_fin numero de nodos que falta\n",
    "    for j in range(n_graphs):\n",
    "        newMatrixGraph = rand_matr_pos_graph(n_nodes_fin, sparse_factor)\n",
    "        newDiccGraph = m_g_2_d_g(newMatrixGraph)\n",
    "        lista_diccGrafos.append(newDiccGraph)\n",
    "\n",
    "    listaStep_diccTiempos = []      # Creamos una lista auxiliar vacia para los tiempos de resolución de cada matriz\n",
    "    lista_diccAvgTiempos = []       # Creamos una lista vacia para los tiempos de resolución de cada matriz\n",
    "    actualNodes_step = n_nodes_ini  # Inicializamos el step actual al minimo de nodos\n",
    "\n",
    "    for grafoDicc in lista_diccGrafos:\n",
    "\n",
    "        time_start = time.time()            # Tiempo en segundos al empezar a resolver un grafo\n",
    "        for nodo_ini in grafoDicc:          # Resolvemos el grafo para TODOS los nodos\n",
    "            dijkstra_d(grafoDicc, nodo_ini)\n",
    "        time_end = time.time()              # Tiempo en segundos al finalizar de resolver un grafo\n",
    "\n",
    "        # Calculamos el tiempo medio de resolucion del algoritmo para todos los grafos de un step\n",
    "        # Por tanto, solo entremos sí el grafo actual es de distinto tamaño al step actual o si\n",
    "        # estamos en el ultimo grafo, en ese caso calculariamos el tiempo medio de resolución para\n",
    "        # el ultimo step\n",
    "        if (len(grafoDicc) != actualNodes_step) or (grafoDicc == lista_diccGrafos[-1]):\n",
    "\n",
    "            if grafoDicc == lista_diccGrafos[-1]:   # Añadimos el ultimo nodo\n",
    "                listaStep_diccTiempos.append(time_end - time_start)\n",
    "\n",
    "            avg_tiempo = 0  # Inicializamos el tiempo medio\n",
    "            for tiempo in listaStep_diccTiempos:    # Hacemos el sumatorio de todos los tiempos de un step\n",
    "                avg_tiempo += tiempo\n",
    "            avg_tiempo /= n_graphs                  # Calculamos la media\n",
    "\n",
    "            lista_diccAvgTiempos.append(avg_tiempo)     # Añadimos a la lista el nuevo tiempo medio\n",
    "            actualNodes_step += step                    # Aumentamos el step\n",
    "            listaStep_diccTiempos = []                  # Limpiamos la lista de tiempos del step\n",
    "\n",
    "        listaStep_diccTiempos.append(time_end - time_start) # Añadimos el nuevo tiempo a la lista de un step\n",
    "\n",
    "    return lista_diccAvgTiempos"
   ]
  },
  {
   "cell_type": "code",
   "execution_count": 18,
   "metadata": {},
   "outputs": [
    {
     "name": "stdout",
     "output_type": "stream",
     "text": [
      "[0.0027876853942871093, 0.007494783401489258, 0.014191961288452149]\n"
     ]
    }
   ],
   "source": [
    "lista_tiemposDicc = time_dijkstra_d(5, 10, 20, 5, sparse_factor=.25)\n",
    "print(lista_tiemposDicc)"
   ]
  },
  {
   "cell_type": "code",
   "execution_count": null,
   "metadata": {},
   "outputs": [],
   "source": []
  }
 ],
 "metadata": {
  "kernelspec": {
   "display_name": "Python 3",
   "language": "python",
   "name": "python3"
  },
  "language_info": {
   "codemirror_mode": {
    "name": "ipython",
    "version": 3
   },
   "file_extension": ".py",
   "mimetype": "text/x-python",
   "name": "python",
   "nbconvert_exporter": "python",
   "pygments_lexer": "ipython3",
   "version": "3.6.5"
  }
 },
 "nbformat": 4,
 "nbformat_minor": 2
}
