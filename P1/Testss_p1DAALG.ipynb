{
 "cells": [
  {
   "cell_type": "code",
   "execution_count": null,
   "metadata": {},
   "outputs": [],
   "source": [
    "import numpy as np\n",
    "import sys"
   ]
  },
  {
   "cell_type": "code",
   "execution_count": null,
   "metadata": {},
   "outputs": [],
   "source": [
    "def rand_matr_pos_graph(n_nodes, sparse_factor, max_weight=50., decimals=0):    ## TODO: Usar el decimals\n",
    "\n",
    "    matBinaria = np.random.binomial(1, sparse_factor, (n_nodes, n_nodes))           # Creamos la matriz que contiene las conexiones\n",
    "    matPesos = np.random.binomial(max_weight, sparse_factor, (n_nodes, n_nodes))    # Creamos la matriz que contiene los pesos\n",
    "    matAdyacencia = np.empty((n_nodes, n_nodes))                                    # Creamos la matriz de adyacencia \n",
    "    matAdyacencia.fill(np.inf)                                                      # La rellenamos de infinito\n",
    "\n",
    "    matFinal = matBinaria * matPesos            # Multiplicamos la primera matriz por la segunda para tener los pesos SOLO en las conexiones generadas\n",
    "\n",
    "    for i in range(matAdyacencia.shape[0]):     # Recorremos la matriz de adyacencia \n",
    "        for j in range(matAdyacencia.shape[1]):\n",
    "            if i == j:                                  # Para poner a 0 la diagonal\n",
    "                matAdyacencia[i][j] = 0\n",
    "            elif matFinal[i][j] != 0:                   # Y para rellenar las conexiones\n",
    "                matAdyacencia[i][j] = matFinal[i][j]\n",
    "\n",
    "    return matAdyacencia"
   ]
  },
  {
   "cell_type": "code",
   "execution_count": null,
   "metadata": {},
   "outputs": [],
   "source": [
    "def cuenta_ramas(m_g):\n",
    "\n",
    "    num_ramas = 0\n",
    "\n",
    "    for filas in m_g:                           # Bucle que recorre la matriz de adyacencia \n",
    "        for peso in filas:\n",
    "            if peso != 0 and peso != np.inf:            # Sumando 1 cuando encuentra una conexión\n",
    "                num_ramas += 1\n",
    "\n",
    "    return num_ramas"
   ]
  },
  {
   "cell_type": "code",
   "execution_count": null,
   "metadata": {},
   "outputs": [],
   "source": [
    "def check_sparse_factor(n_grafos, n_nodes, sparse_factor):\n",
    "\n",
    "    sp_aux = 0          # Inicializamos a 0 esta variable auxiliar\n",
    "\n",
    "    for i in range(n_grafos):       # Hacemos un bucle tantas veces como grafos tengamos que generar\n",
    "        mat = rand_matr_pos_graph(n_nodes, sparse_factor)   # Generamos la matriz de adyacencia\n",
    "        sp = cuenta_ramas(mat)                              # Contamos las ramas de la matriz generada\n",
    "        sp_aux += sp                                        # Sumamos las ramas al contador\n",
    "\n",
    "    avg_sparse_factor = sp_aux/n_grafos     # Por ultimo, calculamos el factor de dispersion medio\n",
    "\n",
    "    return avg_sparse_factor"
   ]
  },
  {
   "cell_type": "code",
   "execution_count": null,
   "metadata": {},
   "outputs": [],
   "source": [
    "def m_g_2_d_g(m_g):\n",
    "\n",
    "    d_g = {}    # Diccionario a devolver\n",
    "    index = 0   # Indice para el diccionario G (indice de nodo)\n",
    "\n",
    "    for nodo in m_g:        # Bucle que recorre la matriz\n",
    "\n",
    "        d_g[index] = {}     # Diccionario G[i]\n",
    "        j = 0       # Indice para el diccionario G[i] (no. de nodo)\n",
    "\n",
    "        for peso in nodo:                       # Recorremos los valores de cada fila (nodo)\n",
    "            if peso != 0 and peso != np.inf:        # Si tiene peso, lo añadimos al diccionario\n",
    "                d_g[index][j] = peso                    # j porque pienso que los nodos van de 0-inf, no de 1-inf\n",
    "            j+=1\n",
    "\n",
    "        index += 1          # Añadimos 1 al indice del diccionario G\n",
    "\n",
    "    return d_g"
   ]
  },
  {
   "cell_type": "code",
   "execution_count": null,
   "metadata": {},
   "outputs": [],
   "source": [
    "def d_g_2_m_g(d_g):\n",
    "\n",
    "    m_g = np.empty((len(d_g), len(d_g)))    # Como son matrices cuadradas, la longitud del diccionario nos da la cantidad de nodos\n",
    "    m_g.fill(np.inf)                        # La rellenamos de np.inf\n",
    "\n",
    "    for i in range(len(d_g)):               # Bucle para inicializar la diagonal a 0\n",
    "        m_g[i][i] = 0\n",
    "\n",
    "    for k1, v1 in d_g.items():              # Recorremos el diccionario. k1 = indice ; v1 = dic. de ese nodo\n",
    "        for k2, v2 in v1.items():               # Recorremos el diccionario del nodo\n",
    "            m_g[k1][k2] = v2                        # Colocamos el peso en la posición que le corresponde\n",
    "\n",
    "    return m_g"
   ]
  },
  {
   "cell_type": "code",
   "execution_count": null,
   "metadata": {},
   "outputs": [],
   "source": [
    "m=rand_matr_pos_graph(5,0.5)\n",
    "print(m)\n",
    "n=cuenta_ramas(m)\n",
    "print(n)\n",
    "s=check_sparse_factor(10,5,0.5)\n",
    "print(s)\n",
    "d=m_g_2_d_g(m)\n",
    "print(d)\n",
    "mm=d_g_2_m_g(d)\n",
    "print(mm)"
   ]
  }
 ],
 "metadata": {
  "kernelspec": {
   "display_name": "Python 3",
   "language": "python",
   "name": "python3"
  },
  "language_info": {
   "codemirror_mode": {
    "name": "ipython",
    "version": 3
   },
   "file_extension": ".py",
   "mimetype": "text/x-python",
   "name": "python",
   "nbconvert_exporter": "python",
   "pygments_lexer": "ipython3",
   "version": "3.6.5"
  }
 },
 "nbformat": 4,
 "nbformat_minor": 2
}
